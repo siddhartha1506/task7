{
  "nbformat": 4,
  "nbformat_minor": 0,
  "metadata": {
    "colab": {
      "provenance": [],
      "authorship_tag": "ABX9TyOTYMNKLaRyzECkz62aphuu",
      "include_colab_link": true
    },
    "kernelspec": {
      "name": "python3",
      "display_name": "Python 3"
    },
    "language_info": {
      "name": "python"
    }
  },
  "cells": [
    {
      "cell_type": "markdown",
      "metadata": {
        "id": "view-in-github",
        "colab_type": "text"
      },
      "source": [
        "<a href=\"https://colab.research.google.com/github/siddhartha1506/task7/blob/main/task7.ipynb\" target=\"_parent\"><img src=\"https://colab.research.google.com/assets/colab-badge.svg\" alt=\"Open In Colab\"/></a>"
      ]
    },
    {
      "cell_type": "code",
      "execution_count": null,
      "metadata": {
        "id": "UjXZgjxNCgU-"
      },
      "outputs": [],
      "source": [
        "import pandas as pd\n",
        "from sklearn.neighbors import KNeighborsClassifier\n",
        "from sklearn.metrics import classification_report\n",
        "from scipy.spatial import distance\n",
        "# Read train and test sets\n",
        "train = pd.read_csv(\"trainKNN.txt\", header=None)\n",
        "train.columns = ['ID', 'RI', 'Na', 'Mg', 'Al', 'Si', 'K', 'Ca', 'Ba', 'Fe', 'Type of glass']\n",
        "train = train.drop('ID', axis=1) # Drop ID since irrelevant to predictions\n",
        "test = pd.read_csv('testKNN.txt', header=None)\n",
        "test.columns=['ID', 'RI', 'Na', 'Mg', 'Al', 'Si', 'K', 'Ca', 'Ba', 'Fe', 'Type of glass']\n",
        "test = test.drop('ID', axis=1)"
      ]
    },
    {
      "cell_type": "code",
      "source": [
        "def standardize (df):\n",
        "    for col in df.columns:\n",
        "        if col != \"Type of glass\": \n",
        "            df[col] = (df[col] - df[col].mean())/df[col].std()\n",
        "    return df\n",
        "train = standardize(train)\n",
        "test = standardize(test)"
      ],
      "metadata": {
        "id": "KBi9aMIfVmKZ"
      },
      "execution_count": null,
      "outputs": []
    },
    {
      "cell_type": "code",
      "source": [
        "euclid_model = KNeighborsClassifier(n_neighbors=8, metric=distance.sqeuclidean) # Square Euclidean distance model\n",
        "manhattan_model = KNeighborsClassifier(n_neighbors=8, metric=distance.cityblock) # Manhattan distance model\n",
        "x_train = train.drop([\"Type of glass\"], axis=1)\n",
        "y_train = train[\"Type of glass\"]\n",
        "euclid_model.fit(x_train,y_train) # Train models\n",
        "manhattan_model.fit(x_train, y_train)\n",
        "x_test = test.drop(\"Type of glass\", axis=1) \n",
        "y_test = test[\"Type of glass\"]"
      ],
      "metadata": {
        "id": "9pEItLmHVihE"
      },
      "execution_count": null,
      "outputs": []
    },
    {
      "cell_type": "code",
      "source": [
        "manhattan_predictions = manhattan_model.predict(x_test)\n",
        "euclid_predictions = euclid_model.predict(x_test) \n",
        "df = pd.DataFrame({'actual': y_test, 'manhattan': manhattan_predictions, 'euclid': euclid_predictions})"
      ],
      "metadata": {
        "id": "bjVf7iUzVqDB"
      },
      "execution_count": null,
      "outputs": []
    },
    {
      "cell_type": "code",
      "source": [
        "print(classification_report(y_test, manhattan_predictions, target_names=df['actual'].astype(str).unique()))\n",
        "print(classification_report(y_test, euclid_predictions, target_names=df['actual'].astype(str).unique())"
      ],
      "metadata": {
        "id": "CPR4vMDnVstK"
      },
      "execution_count": null,
      "outputs": []
    }
  ]
}